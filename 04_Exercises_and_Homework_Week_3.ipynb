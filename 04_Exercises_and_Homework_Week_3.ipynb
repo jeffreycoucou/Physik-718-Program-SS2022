{
 "cells": [
  {
   "cell_type": "markdown",
   "metadata": {
    "nbgrader": {
     "grade": false,
     "grade_id": "cell-515e01b25bda86a9",
     "locked": true,
     "schema_version": 3,
     "solution": false,
     "task": false
    }
   },
   "source": [
    "# Exercises and Homework for week 3"
   ]
  },
  {
   "cell_type": "markdown",
   "metadata": {
    "nbgrader": {
     "grade": false,
     "grade_id": "cell-14ca577e70096fbf",
     "locked": true,
     "schema_version": 3,
     "solution": false,
     "task": false
    }
   },
   "source": [
    "## physics718: Programming in Physics and Astronomy with C++ or Python (SS 2022)\n",
    "Nina Stiesdal & Thomas Erben"
   ]
  },
  {
   "cell_type": "markdown",
   "metadata": {
    "nbgrader": {
     "grade": false,
     "grade_id": "cell-58e8949e2e41603c",
     "locked": true,
     "schema_version": 3,
     "solution": false,
     "task": false
    }
   },
   "source": [
    "Homework is due on **Wednesday, 04/05/2022, 23:59pm**\n",
    "\n",
    " * You only learn a programming language by actively praticing and using it! We therefore **strongly** advise you to work on the homework problems.\n",
    " * Please discuss the problems with your student peers and with your tutor.\n",
    " * Your code(s) need(s) to be well and appropriately commented!\n",
    " * Submit this notebook and, if necessary, additional files in a `tar`-archive with name `Homework_3_group_XX.tgz` (replace `XX` with your group number) to your tutor.\n",
    "\n",
    "**Topics of this exercise:**\n",
    " * First contact with `numpy`-arrays\n",
    " * Basic plots with matplotlib"
   ]
  },
  {
   "cell_type": "markdown",
   "metadata": {},
   "source": [
    "**Your group number here please:**  Group XX"
   ]
  },
  {
   "cell_type": "markdown",
   "metadata": {},
   "source": [
    "# 1. Lecture Review (0 points)"
   ]
  },
  {
   "cell_type": "markdown",
   "metadata": {},
   "source": [
    "If you did the lecture review questions [03_Lecture_Review.ipynb](03_Lecture_Review.ipynb) (strongly recommended!): \n",
    "Please discuss with your tutor and your group any issues/problems you had with them."
   ]
  },
  {
   "cell_type": "markdown",
   "metadata": {},
   "source": [
    "# 2. Numerical Integration (15 points)"
   ]
  },
  {
   "cell_type": "markdown",
   "metadata": {},
   "source": [
    "We want to numerically estimate the integrals\n",
    "$$\n",
    "\\int_0^{\\pi}\\sin(x)\\,{\\rm d}x = 2 \\text{   and   } \\int_{-1}^2 x^3\\,{\\rm d}x=\\frac{15}{4}.\n",
    "$$\n",
    "\n",
    "We will do the estimation in the easiest possible way with Riemann sums: Be $f(x)$ a continuous function on the interval $I=[a;b]$. Be $x_i$ with $a < x_0 < \\dots < x_n < b$ a partition of the interval $I$. With $\\Delta x_i=x_{i+1}-x_i; i\\in[0,n-1]$ and $f_{\\Delta_i}=f\\left(\\frac{x_i+x_{i+1}}2\\right)$, the integral can be approximated with\n",
    "$$\\int_a^bf(x)\\,{\\rm d}x\\approx \\sum_{i=0}^{n-1}\\Delta x_i\\cdot f_{\\Delta_i}=I_{\\rm approx}(n).$$ See the following figure for a visualisation of the method. You can read more on Riemann sums on [Wikipedia](https://en.wikipedia.org/wiki/Riemann_sum). \n",
    "\n",
    "<img src=\"figs/sin_cubic.png\" style=\"width: 500px;\" style=\"height: 250px;\">\n",
    "\n"
   ]
  },
  {
   "cell_type": "markdown",
   "metadata": {},
   "source": [
    "1. Implement the Riemann integration; Given numpy arrays with $x_i$ and corresponding function values, the calculations of $\\Delta x_i$, $f_{\\Delta_i}$ and the Riemann sum can be done with a single numpy-expression each.\n",
    "2. Obviously, the accuracy of our numerical estimates depend on the partition of the interval $I=[a;b]$ and particularly on our choice of $n$. One can show that the absolute error $\\epsilon_{\\rm abs}(n)$ of the integral approximation with Riemann sums behaves like:\n",
    "$$\n",
    "\\epsilon_{\\rm abs}(n)=\\left|I_{\\rm approx}(n)-\\int_a^bf(x)\\,{\\rm d}x\\right| \\propto n^{\\alpha}.\n",
    "$$\n",
    "Perform some experiments to estimate $\\alpha$. **Remark:** The task is deliberately vaguely formulated. To come up with a reasonable test is part of the exercise.\n",
    "3. Modify your program from subtask 1 to estimate the indefinite integral\n",
    "$$F(x)=\\int_0^x \\sin(y)\\,{\\rm d}y$$\n",
    "in the interval $x\\in[0;2\\pi]$ and plot $F(x)$. Is the result what\n",
    "you are expecting?\n",
    "  **Hint for subtask (3):** Have a look at the function `numpy.cumsum`."
   ]
  },
  {
   "cell_type": "code",
   "execution_count": 28,
   "metadata": {},
   "outputs": [
    {
     "name": "stdout",
     "output_type": "stream",
     "text": [
      "3.768698060941828\n",
      "1.9999584621373308\n"
     ]
    }
   ],
   "source": [
    "# Your solution for subtask (1) here please\n",
    "import numpy as np\n",
    "#for sin intergal\n",
    "def f_sin(x):\n",
    "    return np.sin(x)\n",
    "def f_x3(x):\n",
    "    return x**3\n",
    "def Xi_array(a,b,n):\n",
    "    x=np.linspace(a,b,n)\n",
    "    return x\n",
    "def delta_x(x):\n",
    "    n=np.size(x)\n",
    "    dx=np.zeros(n-1)\n",
    "    for i in range(0,n-1):\n",
    "        dx[i]=(x[i+1]-x[i])\n",
    "    return dx\n",
    "def f_delta(func,x):\n",
    "    n=np.size(x)\n",
    "    f=func(x)\n",
    "    f_delta=np.zeros(n-1)\n",
    "    for i in range(0,n-1):\n",
    "        f_delta[i]=(f[i+1]+f[i])/2\n",
    "    return f_delta\n",
    "def remain_sum(func,a,b,n):\n",
    "    x=Xi_array(a,b,n)\n",
    "    result=delta_x(x)*f_delta(func,x)\n",
    "    return np.sum(result)\n",
    "#check code\n",
    "print(remain_sum(f_x3,-1,2,20))\n",
    "print(remain_sum(f_sin,0,np.pi,200))"
   ]
  },
  {
   "cell_type": "code",
   "execution_count": 64,
   "metadata": {},
   "outputs": [
    {
     "name": "stdout",
     "output_type": "stream",
     "text": [
      "alpha is approx to -1.8592791465152736\n"
     ]
    }
   ],
   "source": [
    "# Your solution for subtask (2) here please\n",
    "# First def error\n",
    "def error(n):#for func_sin, a=0, b=np.pi\n",
    "    a=0\n",
    "    b=np.pi\n",
    "    theo_value = 2\n",
    "    remain_intagel = remain_sum(f_sin,a,b,n)\n",
    "    return np.abs(remain_intagel-theo_value)\n",
    "n=np.logspace(1,3,10,dtype=int)\n",
    "errors=np.zeros(10)\n",
    "for i in range(0,10):\n",
    "    errors[i]=error(n[i])\n",
    "#print(errors)\n",
    "result=np.log(errors)/np.log(n)\n",
    "print('alpha is approx to ' + str(np.mean(result)))"
   ]
  },
  {
   "cell_type": "code",
   "execution_count": 68,
   "metadata": {},
   "outputs": [
    {
     "name": "stdout",
     "output_type": "stream",
     "text": [
      "[ 4.99995833e-05  5.73012539e-02  2.16386559e-01  4.60120820e-01\n",
      "  7.62174792e-01  1.08991929e+00  1.40794992e+00  1.68191168e+00\n",
      "  1.88221005e+00  1.98720801e+00  1.98556329e+00  1.87745364e+00\n",
      "  1.67455758e+00  1.39879285e+00  1.07994872e+00  7.52468014e-01\n",
      "  4.51726447e-01  2.10211164e-01  5.40113543e-02 -2.22044605e-16]\n"
     ]
    },
    {
     "data": {
      "image/png": "[encoded data removed]",
      "text/plain": [
       "<Figure size 432x288 with 1 Axes>"
      ]
     },
     "metadata": {
      "needs_background": "light"
     },
     "output_type": "display_data"
    }
   ],
   "source": [
    "# Your solution for subtask (3) here please\n",
    "a=0\n",
    "b=np.linspace(0.01,2*np.pi,20)\n",
    "n=500\n",
    "F=np.zeros(20)\n",
    "for i in range(0,20):\n",
    "    F[i]=remain_sum(f_sin,a,b[i],n)\n",
    "print(F)\n",
    "import matplotlib.pyplot as plt\n",
    "plt.plot(b,F)\n",
    "plt.show()"
   ]
  },
  {
   "cell_type": "markdown",
   "metadata": {},
   "source": [
    "## 3. Barplots (10 points)\n",
    "Reproduce the Riemann Sums plots of Task 2 with `numpy` and `matplotlib`.\n",
    "\n",
    "**Hints:** (1) Please have a  look at the function `matplotlib.pyplot.bar`; (2) You *do not* need to reproduce the exact colors, linewidths or label sizes of the plots."
   ]
  },
  {
   "cell_type": "code",
   "execution_count": null,
   "metadata": {},
   "outputs": [],
   "source": [
    "# Your solution here please"
   ]
  },
  {
   "cell_type": "markdown",
   "metadata": {
    "tags": []
   },
   "source": [
    "## 4. Strings (0 points)\n",
    "Besides `numpy`-arrays, the second important Python-container to learn are strings. You probably already used them in your programs to print status messages or results. Strings are *homogeneous* containers of characters. I do not want to explicitely treat strings in lecture and I therefore ask you to watch the [video lecture on strings](https://youtu.be/OsQ28kHjLj0 ) and to do [string review questions](../video_lecture_01_strings/02_Strings_Review.ipynb) as part of this weeks homework tasks. The lecture notebook for strings is [here](../video_lecture_01_strings/01_Strings.ipynb).  "
   ]
  },
  {
   "cell_type": "code",
   "execution_count": 1,
   "metadata": {},
   "outputs": [
    {
     "data": {
      "image/jpeg": "[encoded data removed]",
      "text/html": [
       "\n",
       "        <iframe\n",
       "            width=\"400\"\n",
       "            height=\"300\"\n",
       "            src=\"https://www.youtube.com/embed/OsQ28kHjLj0\"\n",
       "            frameborder=\"0\"\n",
       "            allowfullscreen\n",
       "            \n",
       "        ></iframe>\n",
       "        "
      ],
      "text/plain": [
       "<IPython.lib.display.YouTubeVideo at 0x27111f4e948>"
      ]
     },
     "execution_count": 1,
     "metadata": {},
     "output_type": "execute_result"
    }
   ],
   "source": [
    "from IPython.display import YouTubeVideo\n",
    "YouTubeVideo('OsQ28kHjLj0')"
   ]
  }
 ],
 "metadata": {
  "celltoolbar": "Create Assignment",
  "kernelspec": {
   "display_name": "Python 3",
   "language": "python",
   "name": "python3"
  },
  "language_info": {
   "codemirror_mode": {
    "name": "ipython",
    "version": 3
   },
   "file_extension": ".py",
   "mimetype": "text/x-python",
   "name": "python",
   "nbconvert_exporter": "python",
   "pygments_lexer": "ipython3",
   "version": "3.8.5"
  }
 },
 "nbformat": 4,
 "nbformat_minor": 4
}
